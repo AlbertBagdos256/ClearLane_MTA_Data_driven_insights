{
 "cells": [
  {
   "cell_type": "markdown",
   "id": "cfe5fe4e",
   "metadata": {},
   "source": [
    "CUNY-Specific Analytics\n",
    "1. Which MTA bus routes are highly utilized by CUNY students?\n",
    "2. How do violation rates compare among CUNY campuses?"
   ]
  },
  {
   "cell_type": "code",
   "execution_count": 1,
   "id": "771e2d2b",
   "metadata": {},
   "outputs": [],
   "source": [
    "import numpy as np\n",
    "import pandas as pd"
   ]
  },
  {
   "cell_type": "markdown",
   "id": "665807c0",
   "metadata": {},
   "source": [
    "Data loading/cleaning - CUNY campuses"
   ]
  },
  {
   "cell_type": "code",
   "execution_count": 3,
   "id": "f3031048",
   "metadata": {},
   "outputs": [
    {
     "data": {
      "text/html": [
       "<div>\n",
       "<style scoped>\n",
       "    .dataframe tbody tr th:only-of-type {\n",
       "        vertical-align: middle;\n",
       "    }\n",
       "\n",
       "    .dataframe tbody tr th {\n",
       "        vertical-align: top;\n",
       "    }\n",
       "\n",
       "    .dataframe thead th {\n",
       "        text-align: right;\n",
       "    }\n",
       "</style>\n",
       "<table border=\"1\" class=\"dataframe\">\n",
       "  <thead>\n",
       "    <tr style=\"text-align: right;\">\n",
       "      <th></th>\n",
       "      <th>College or Institution Type</th>\n",
       "      <th>Campus</th>\n",
       "      <th>Campus Website</th>\n",
       "      <th>Address</th>\n",
       "      <th>City</th>\n",
       "      <th>State</th>\n",
       "      <th>Zip</th>\n",
       "      <th>Latitude</th>\n",
       "      <th>Longitude</th>\n",
       "      <th>Georeference</th>\n",
       "    </tr>\n",
       "  </thead>\n",
       "  <tbody>\n",
       "    <tr>\n",
       "      <th>0</th>\n",
       "      <td>Community Colleges</td>\n",
       "      <td>Borough of Manhattan Community College</td>\n",
       "      <td>https://www.bmcc.cuny.edu/</td>\n",
       "      <td>199 Chambers Street</td>\n",
       "      <td>New York</td>\n",
       "      <td>NY</td>\n",
       "      <td>10007-1044</td>\n",
       "      <td>40.717367</td>\n",
       "      <td>-74.012178</td>\n",
       "      <td>POINT (-74.012178 40.717367)</td>\n",
       "    </tr>\n",
       "    <tr>\n",
       "      <th>1</th>\n",
       "      <td>Community Colleges</td>\n",
       "      <td>Bronx Community College</td>\n",
       "      <td>https://www.bcc.cuny.edu/</td>\n",
       "      <td>2155 University Avenue</td>\n",
       "      <td>Bronx</td>\n",
       "      <td>NY</td>\n",
       "      <td>10453-2804</td>\n",
       "      <td>40.856673</td>\n",
       "      <td>-73.910127</td>\n",
       "      <td>POINT (-73.910127 40.856673)</td>\n",
       "    </tr>\n",
       "    <tr>\n",
       "      <th>2</th>\n",
       "      <td>Community Colleges</td>\n",
       "      <td>Hostos Community College</td>\n",
       "      <td>http://hostos.cuny.edu</td>\n",
       "      <td>500 Grand Concourse</td>\n",
       "      <td>Bronx</td>\n",
       "      <td>NY</td>\n",
       "      <td>10451-5323</td>\n",
       "      <td>40.817828</td>\n",
       "      <td>-73.926862</td>\n",
       "      <td>POINT (-73.926862 40.817828)</td>\n",
       "    </tr>\n",
       "    <tr>\n",
       "      <th>3</th>\n",
       "      <td>Community Colleges</td>\n",
       "      <td>Kingsborough Community College</td>\n",
       "      <td>http://kbcc.cuny.edu</td>\n",
       "      <td>2001 Oriental Boulevard</td>\n",
       "      <td>Brooklyn</td>\n",
       "      <td>NY</td>\n",
       "      <td>11235-2333</td>\n",
       "      <td>40.578349</td>\n",
       "      <td>-73.934465</td>\n",
       "      <td>POINT (-73.934465 40.578349)</td>\n",
       "    </tr>\n",
       "    <tr>\n",
       "      <th>4</th>\n",
       "      <td>Community Colleges</td>\n",
       "      <td>LaGuardia Community College</td>\n",
       "      <td>https://www.laguardia.edu/</td>\n",
       "      <td>31-10 Thomson Avenue</td>\n",
       "      <td>Long Island City</td>\n",
       "      <td>NY</td>\n",
       "      <td>11101-3007</td>\n",
       "      <td>40.743951</td>\n",
       "      <td>-73.935154</td>\n",
       "      <td>POINT (-73.935154 40.743951)</td>\n",
       "    </tr>\n",
       "  </tbody>\n",
       "</table>\n",
       "</div>"
      ],
      "text/plain": [
       "  College or Institution Type                                  Campus  \\\n",
       "0          Community Colleges  Borough of Manhattan Community College   \n",
       "1          Community Colleges                 Bronx Community College   \n",
       "2          Community Colleges                Hostos Community College   \n",
       "3          Community Colleges          Kingsborough Community College   \n",
       "4          Community Colleges             LaGuardia Community College   \n",
       "\n",
       "               Campus Website                  Address              City  \\\n",
       "0  https://www.bmcc.cuny.edu/      199 Chambers Street          New York   \n",
       "1   https://www.bcc.cuny.edu/   2155 University Avenue             Bronx   \n",
       "2      http://hostos.cuny.edu      500 Grand Concourse             Bronx   \n",
       "3        http://kbcc.cuny.edu  2001 Oriental Boulevard          Brooklyn   \n",
       "4  https://www.laguardia.edu/     31-10 Thomson Avenue  Long Island City   \n",
       "\n",
       "  State         Zip   Latitude  Longitude                  Georeference  \n",
       "0    NY  10007-1044  40.717367 -74.012178  POINT (-74.012178 40.717367)  \n",
       "1    NY  10453-2804  40.856673 -73.910127  POINT (-73.910127 40.856673)  \n",
       "2    NY  10451-5323  40.817828 -73.926862  POINT (-73.926862 40.817828)  \n",
       "3    NY  11235-2333  40.578349 -73.934465  POINT (-73.934465 40.578349)  \n",
       "4    NY  11101-3007  40.743951 -73.935154  POINT (-73.935154 40.743951)  "
      ]
     },
     "execution_count": 3,
     "metadata": {},
     "output_type": "execute_result"
    }
   ],
   "source": [
    "# url = https://data.ny.gov/Education/City-University-of-New-York-CUNY-University-Campus/i5b5-imzn/data\n",
    "campuses = pd.read_csv(\"../raw_data/cuny_campuses.csv\")\n",
    "campuses.head()"
   ]
  },
  {
   "cell_type": "markdown",
   "id": "e60f6ce6",
   "metadata": {
    "vscode": {
     "languageId": "plaintext"
    }
   },
   "source": [
    "Data loading/cleaning - Bus stops/routes"
   ]
  },
  {
   "cell_type": "code",
   "execution_count": null,
   "id": "ca6f433e",
   "metadata": {},
   "outputs": [],
   "source": []
  },
  {
   "cell_type": "markdown",
   "id": "853b352c",
   "metadata": {},
   "source": [
    "Data loading/cleaning - MTA Bus ACE Violations"
   ]
  },
  {
   "cell_type": "code",
   "execution_count": null,
   "id": "7e267ecf",
   "metadata": {},
   "outputs": [],
   "source": []
  },
  {
   "cell_type": "markdown",
   "id": "2412a151",
   "metadata": {},
   "source": [
    "\n",
    "Linking the datasets\n",
    "- Which bus routes serve each CUNY campus\n",
    "- Find the violation counts for those routes (+violation types?)\n",
    "- Compare across CUNY campuses"
   ]
  },
  {
   "cell_type": "code",
   "execution_count": null,
   "id": "a017fdd0",
   "metadata": {},
   "outputs": [],
   "source": []
  },
  {
   "cell_type": "markdown",
   "id": "320a9edd",
   "metadata": {},
   "source": [
    "Visualizations/Insights"
   ]
  },
  {
   "cell_type": "code",
   "execution_count": null,
   "id": "cded0c91",
   "metadata": {},
   "outputs": [],
   "source": []
  },
  {
   "cell_type": "markdown",
   "id": "b1a5a8d2",
   "metadata": {},
   "source": [
    "Recommendations"
   ]
  },
  {
   "cell_type": "code",
   "execution_count": null,
   "id": "d9d60aef",
   "metadata": {},
   "outputs": [],
   "source": []
  }
 ],
 "metadata": {
  "kernelspec": {
   "display_name": ".venv",
   "language": "python",
   "name": "python3"
  },
  "language_info": {
   "codemirror_mode": {
    "name": "ipython",
    "version": 3
   },
   "file_extension": ".py",
   "mimetype": "text/x-python",
   "name": "python",
   "nbconvert_exporter": "python",
   "pygments_lexer": "ipython3",
   "version": "3.13.7"
  }
 },
 "nbformat": 4,
 "nbformat_minor": 5
}
