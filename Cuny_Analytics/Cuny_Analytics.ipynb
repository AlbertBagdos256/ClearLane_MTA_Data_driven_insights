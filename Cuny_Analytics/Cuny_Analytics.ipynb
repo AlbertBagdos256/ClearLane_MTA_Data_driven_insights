{
 "cells": [
  {
   "cell_type": "markdown",
   "id": "cfe5fe4e",
   "metadata": {},
   "source": [
    "CUNY-Specific Analytics\n",
    "1. Which MTA bus routes are highly utilized by CUNY students?\n",
    "2. How do violation rates compare among CUNY campuses?"
   ]
  },
  {
   "cell_type": "code",
   "execution_count": null,
   "id": "771e2d2b",
   "metadata": {},
   "outputs": [],
   "source": [
    "import pandas as pd"
   ]
  },
  {
   "cell_type": "markdown",
   "id": "665807c0",
   "metadata": {},
   "source": [
    "Data loading/cleaning - CUNY campuses"
   ]
  },
  {
   "cell_type": "code",
   "execution_count": null,
   "id": "f3031048",
   "metadata": {},
   "outputs": [],
   "source": []
  },
  {
   "cell_type": "markdown",
   "id": "e60f6ce6",
   "metadata": {
    "vscode": {
     "languageId": "plaintext"
    }
   },
   "source": [
    "Data loading/cleaning - Bus stops/routes"
   ]
  },
  {
   "cell_type": "code",
   "execution_count": null,
   "id": "ca6f433e",
   "metadata": {},
   "outputs": [],
   "source": []
  },
  {
   "cell_type": "markdown",
   "id": "853b352c",
   "metadata": {},
   "source": [
    "Data loading/cleaning - MTA Bus ACE Violations"
   ]
  },
  {
   "cell_type": "code",
   "execution_count": null,
   "id": "7e267ecf",
   "metadata": {},
   "outputs": [],
   "source": []
  },
  {
   "cell_type": "markdown",
   "id": "2412a151",
   "metadata": {},
   "source": [
    "\n",
    "Linking the datasets\n",
    "- Which bus routes serve each CUNY campus\n",
    "- Find the violation counts for those routes (+violation types?)\n",
    "- Compare across CUNY campuses"
   ]
  },
  {
   "cell_type": "code",
   "execution_count": null,
   "id": "a017fdd0",
   "metadata": {},
   "outputs": [],
   "source": []
  },
  {
   "cell_type": "markdown",
   "id": "320a9edd",
   "metadata": {},
   "source": [
    "Visualizations/Insights"
   ]
  },
  {
   "cell_type": "code",
   "execution_count": null,
   "id": "cded0c91",
   "metadata": {},
   "outputs": [],
   "source": []
  },
  {
   "cell_type": "markdown",
   "id": "b1a5a8d2",
   "metadata": {},
   "source": [
    "Recommendations"
   ]
  },
  {
   "cell_type": "code",
   "execution_count": null,
   "id": "d9d60aef",
   "metadata": {},
   "outputs": [],
   "source": []
  }
 ],
 "metadata": {
  "kernelspec": {
   "display_name": "Python 3 (ipykernel)",
   "language": "python",
   "name": "python3"
  },
  "language_info": {
   "codemirror_mode": {
    "name": "ipython",
    "version": 3
   },
   "file_extension": ".py",
   "mimetype": "text/x-python",
   "name": "python",
   "nbconvert_exporter": "python",
   "pygments_lexer": "ipython3",
   "version": "3.11.4"
  }
 },
 "nbformat": 4,
 "nbformat_minor": 5
}
